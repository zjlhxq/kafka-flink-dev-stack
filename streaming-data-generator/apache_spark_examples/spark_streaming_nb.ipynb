{
 "cells": [
  {
   "cell_type": "markdown",
   "id": "e2563081-c3a6-4992-b783-9163bb9f83b0",
   "metadata": {},
   "source": [
    "# Spark Structured Streaming Example\n",
    "\n",
    "Purpose: Reads a stream of messages from a Kafka topic and writes a stream of aggregations over sliding event-time window to memory.\n",
    "\n",
    "References: https://spark.apache.org/docs/latest/structured-streaming-programming-guide.html\n",
    "\n",
    "Author:  Gary A. Stafford\n",
    "\n",
    "Date: 2022-12-16"
   ]
  },
  {
   "cell_type": "code",
   "execution_count": 1,
   "id": "f5b6543e-fc4c-4faf-9434-ee25cfcebd82",
   "metadata": {},
   "outputs": [],
   "source": [
    "import os\n",
    "\n",
    "import pyspark.sql.functions as F\n",
    "from pyspark.sql import SparkSession\n",
    "from pyspark.sql.types import (\n",
    "    StructField,\n",
    "    StructType,\n",
    "    IntegerType,\n",
    "    StringType,\n",
    "    FloatType,\n",
    "    TimestampType,\n",
    "    BooleanType,\n",
    ")\n",
    "from pyspark.sql.window import Window"
   ]
  },
  {
   "cell_type": "code",
   "execution_count": 2,
   "id": "689763dc-e433-4830-aff9-328a23eb6785",
   "metadata": {},
   "outputs": [],
   "source": [
    "spark = SparkSession.builder.appName(\"kafka-streaming-query\").getOrCreate()"
   ]
  },
  {
   "cell_type": "code",
   "execution_count": 3,
   "id": "8a8ffbd4-0da8-412b-ae4d-dbf3632c4481",
   "metadata": {},
   "outputs": [],
   "source": [
    "BOOTSTRAP_SERVERS = \"kafka:29092\"\n",
    "TOPIC_PURCHASES = \"demo.purchases\""
   ]
  },
  {
   "cell_type": "code",
   "execution_count": 4,
   "id": "f0ecf312-4356-41ec-b816-c9f4702e7a90",
   "metadata": {},
   "outputs": [],
   "source": [
    "options = {\n",
    "    \"kafka.bootstrap.servers\": BOOTSTRAP_SERVERS,\n",
    "    \"subscribe\": TOPIC_PURCHASES,\n",
    "    \"startingOffsets\": \"earliest\",\n",
    "}\n",
    "\n",
    "df_sales = spark.readStream.format(\"kafka\").options(**options).load()"
   ]
  },
  {
   "cell_type": "code",
   "execution_count": 5,
   "id": "f439c1a4-600a-41a3-aca4-cf125990c658",
   "metadata": {},
   "outputs": [],
   "source": [
    "schema = StructType(\n",
    "    [\n",
    "        StructField(\"transaction_time\", TimestampType(), False),\n",
    "        StructField(\"transaction_id\", IntegerType(), False),\n",
    "        StructField(\"product_id\", StringType(), False),\n",
    "        StructField(\"price\", FloatType(), False),\n",
    "        StructField(\"quantity\", IntegerType(), False),\n",
    "        StructField(\"is_member\", BooleanType(), True),\n",
    "        StructField(\"member_discount\", FloatType(), True),\n",
    "        StructField(\"add_supplements\", BooleanType(), True),\n",
    "        StructField(\"supplement_price\", FloatType(), True),\n",
    "        StructField(\"total_purchase\", FloatType(), False),\n",
    "    ]\n",
    ")\n",
    "\n",
    "ds_sales = (\n",
    "    df_sales.selectExpr(\"CAST(value AS STRING)\")\n",
    "    .select(F.from_json(\"value\", schema=schema).alias(\"data\"))\n",
    "    .select(\"data.*\")\n",
    "    .withWatermark(\"transaction_time\", \"10 minutes\")\n",
    "    .groupBy(\"product_id\", F.window(\"transaction_time\", \"10 minutes\", \"5 minutes\"))\n",
    "    .agg(F.sum(\"total_purchase\"), F.sum(\"quantity\"))\n",
    "    .orderBy(F.col(\"window\").desc(), F.col(\"sum(total_purchase)\").desc())\n",
    "    .select(\n",
    "        \"product_id\",\n",
    "        F.format_number(\"sum(total_purchase)\", 2).alias(\"sales\"),\n",
    "        F.format_number(\"sum(quantity)\", 0).alias(\"drinks\"),\n",
    "        \"window.start\",\n",
    "        \"window.end\",\n",
    "    )\n",
    "    .coalesce(1)\n",
    "    .writeStream.queryName(\"streaming_to_console\")\n",
    "    .trigger(processingTime=\"1 minute\")\n",
    "    .outputMode(\"complete\")\n",
    "    .format(\"memory\")\n",
    "    .start()\n",
    ")"
   ]
  },
  {
   "cell_type": "code",
   "execution_count": 6,
   "id": "6bad56b3-2f27-4c6e-a8fb-ba8399e04c45",
   "metadata": {},
   "outputs": [],
   "source": [
    "# data display auto-refresh reference: https://stackoverflow.com/a/61922073/580268\n",
    "\n",
    "from IPython.display import display, clear_output\n",
    "from time import sleep"
   ]
  },
  {
   "cell_type": "code",
   "execution_count": 7,
   "id": "ee9c4e9c-abe6-4c19-9b58-b6423224b16b",
   "metadata": {},
   "outputs": [
    {
     "data": {
      "text/plain": [
       "{'message': 'Waiting for next trigger',\n",
       " 'isDataAvailable': True,\n",
       " 'isTriggerActive': False}"
      ]
     },
     "metadata": {},
     "output_type": "display_data"
    },
    {
     "name": "stdout",
     "output_type": "stream",
     "text": [
      "+----------+-----+------+-------------------+-------------------+\n",
      "|product_id|sales|drinks|              start|                end|\n",
      "+----------+-----+------+-------------------+-------------------+\n",
      "|      SC01|21.95|     3|2022-12-27 14:30:00|2022-12-27 14:40:00|\n",
      "|      CS04|18.95|     3|2022-12-27 14:30:00|2022-12-27 14:40:00|\n",
      "|      CS11|14.97|     3|2022-12-27 14:30:00|2022-12-27 14:40:00|\n",
      "|      SC05|11.98|     2|2022-12-27 14:30:00|2022-12-27 14:40:00|\n",
      "|      SF03|11.38|     2|2022-12-27 14:30:00|2022-12-27 14:40:00|\n",
      "|      SF02|11.38|     2|2022-12-27 14:30:00|2022-12-27 14:40:00|\n",
      "|      IS02|10.98|     2|2022-12-27 14:30:00|2022-12-27 14:40:00|\n",
      "|      SC02| 7.98|     1|2022-12-27 14:30:00|2022-12-27 14:40:00|\n",
      "|      IS03| 5.49|     1|2022-12-27 14:30:00|2022-12-27 14:40:00|\n",
      "|      SC03| 5.39|     1|2022-12-27 14:30:00|2022-12-27 14:40:00|\n",
      "|      SC04| 5.39|     1|2022-12-27 14:30:00|2022-12-27 14:40:00|\n",
      "|      SF04| 5.39|     1|2022-12-27 14:30:00|2022-12-27 14:40:00|\n",
      "|      CS02| 4.49|     1|2022-12-27 14:30:00|2022-12-27 14:40:00|\n",
      "|      CS08| 4.49|     1|2022-12-27 14:30:00|2022-12-27 14:40:00|\n",
      "|      CS05| 4.49|     1|2022-12-27 14:30:00|2022-12-27 14:40:00|\n",
      "|      SF06|99.37|    14|2022-12-27 14:25:00|2022-12-27 14:35:00|\n",
      "|      SC01|96.18|    14|2022-12-27 14:25:00|2022-12-27 14:35:00|\n",
      "|      SF04|65.65|    10|2022-12-27 14:25:00|2022-12-27 14:35:00|\n",
      "|      CS05|63.15|    12|2022-12-27 14:25:00|2022-12-27 14:35:00|\n",
      "|      SC04|62.67|    10|2022-12-27 14:25:00|2022-12-27 14:35:00|\n",
      "+----------+-----+------+-------------------+-------------------+\n",
      "only showing top 20 rows\n",
      "\n"
     ]
    },
    {
     "data": {
      "text/plain": [
       "None"
      ]
     },
     "metadata": {},
     "output_type": "display_data"
    },
    {
     "ename": "KeyboardInterrupt",
     "evalue": "",
     "output_type": "error",
     "traceback": [
      "\u001b[0;31m---------------------------------------------------------------------------\u001b[0m",
      "\u001b[0;31mKeyboardInterrupt\u001b[0m                         Traceback (most recent call last)",
      "Cell \u001b[0;32mIn[7], line 5\u001b[0m\n\u001b[1;32m      3\u001b[0m display(ds_sales\u001b[38;5;241m.\u001b[39mstatus)\n\u001b[1;32m      4\u001b[0m display(spark\u001b[38;5;241m.\u001b[39msql(\u001b[38;5;124m\"\u001b[39m\u001b[38;5;124mSELECT * FROM streaming_to_console\u001b[39m\u001b[38;5;124m\"\u001b[39m)\u001b[38;5;241m.\u001b[39mshow())\n\u001b[0;32m----> 5\u001b[0m \u001b[43msleep\u001b[49m\u001b[43m(\u001b[49m\u001b[38;5;241;43m3\u001b[39;49m\u001b[43m)\u001b[49m \u001b[38;5;66;03m# refresh every 3 seconds\u001b[39;00m\n",
      "\u001b[0;31mKeyboardInterrupt\u001b[0m: "
     ]
    }
   ],
   "source": [
    "while True:\n",
    "    clear_output(wait=True)\n",
    "    display(ds_sales.status)\n",
    "    display(spark.sql(\"SELECT * FROM streaming_to_console\").show())\n",
    "    sleep(3)  # refresh every 3 seconds"
   ]
  },
  {
   "cell_type": "code",
   "execution_count": null,
   "id": "86d3f6ae-0f76-4e7c-8b97-31fd88b90032",
   "metadata": {},
   "outputs": [],
   "source": []
  }
 ],
 "metadata": {
  "kernelspec": {
   "display_name": "Python 3 (ipykernel)",
   "language": "python",
   "name": "python3"
  },
  "language_info": {
   "codemirror_mode": {
    "name": "ipython",
    "version": 3
   },
   "file_extension": ".py",
   "mimetype": "text/x-python",
   "name": "python",
   "nbconvert_exporter": "python",
   "pygments_lexer": "ipython3",
   "version": "3.10.8"
  }
 },
 "nbformat": 4,
 "nbformat_minor": 5
}
