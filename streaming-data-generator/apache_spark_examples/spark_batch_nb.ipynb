{
 "cells": [
  {
   "cell_type": "markdown",
   "id": "e2563081-c3a6-4992-b783-9163bb9f83b0",
   "metadata": {},
   "source": [
    "# Spark Structured Streaming Example\n",
    "\n",
    "Purpose: Reads a batch of messages from a Kafka topic and aggregates by product_id.\n",
    "\n",
    "References: https://spark.apache.org/docs/latest/structured-streaming-programming-guide.html\n",
    "\n",
    "Author:  Gary A. Stafford\n",
    "\n",
    "Date: 2022-12-16"
   ]
  },
  {
   "cell_type": "code",
   "execution_count": 1,
   "id": "f5b6543e-fc4c-4faf-9434-ee25cfcebd82",
   "metadata": {},
   "outputs": [],
   "source": [
    "import os\n",
    "\n",
    "import pyspark.sql.functions as F\n",
    "from pyspark.sql import SparkSession\n",
    "from pyspark.sql.types import (\n",
    "    StructField,\n",
    "    StructType,\n",
    "    IntegerType,\n",
    "    StringType,\n",
    "    FloatType,\n",
    "    TimestampType,\n",
    "    BooleanType,\n",
    ")\n",
    "from pyspark.sql.window import Window"
   ]
  },
  {
   "cell_type": "code",
   "execution_count": 2,
   "id": "689763dc-e433-4830-aff9-328a23eb6785",
   "metadata": {},
   "outputs": [],
   "source": [
    "spark = SparkSession.builder.appName(\"kafka-batch-query\").getOrCreate()"
   ]
  },
  {
   "cell_type": "code",
   "execution_count": 3,
   "id": "8a8ffbd4-0da8-412b-ae4d-dbf3632c4481",
   "metadata": {},
   "outputs": [],
   "source": [
    "BOOTSTRAP_SERVERS = \"kafka:29092\"\n",
    "TOPIC_PURCHASES = \"demo.purchases\""
   ]
  },
  {
   "cell_type": "code",
   "execution_count": 4,
   "id": "f0ecf312-4356-41ec-b816-c9f4702e7a90",
   "metadata": {},
   "outputs": [],
   "source": [
    "options = {\n",
    "    \"kafka.bootstrap.servers\": BOOTSTRAP_SERVERS,\n",
    "    \"subscribe\": TOPIC_PURCHASES,\n",
    "    \"startingOffsets\": \"earliest\",\n",
    "    \"endingOffsets\": \"latest\",\n",
    "}\n",
    "\n",
    "df_sales = spark.read.format(\"kafka\").options(**options).load()"
   ]
  },
  {
   "cell_type": "code",
   "execution_count": 6,
   "id": "4b790d0d-ed95-49af-b5f6-c6f95e190523",
   "metadata": {},
   "outputs": [
    {
     "name": "stdout",
     "output_type": "stream",
     "text": [
      "+----------+--------+--------+\n",
      "|product_id|   sales|quantity|\n",
      "+----------+--------+--------+\n",
      "|      SF07|7,927.25|   1,179|\n",
      "|      SC04|7,196.81|   1,049|\n",
      "|      CS08|7,106.32|   1,368|\n",
      "|      IS02|6,054.41|   1,060|\n",
      "|      SF05|5,902.14|     867|\n",
      "|      SF06|5,669.34|     841|\n",
      "|      SC01|5,539.78|     820|\n",
      "|      IS03|5,373.21|     937|\n",
      "|      SC05|4,871.18|     712|\n",
      "|      CS07|4,412.13|     844|\n",
      "+----------+--------+--------+\n",
      "only showing top 10 rows\n",
      "\n"
     ]
    }
   ],
   "source": [
    "schema = StructType(\n",
    "    [\n",
    "        StructField(\"transaction_time\", TimestampType(), False),\n",
    "        StructField(\"transaction_id\", IntegerType(), False),\n",
    "        StructField(\"product_id\", StringType(), False),\n",
    "        StructField(\"price\", FloatType(), False),\n",
    "        StructField(\"quantity\", IntegerType(), False),\n",
    "        StructField(\"is_member\", BooleanType(), True),\n",
    "        StructField(\"member_discount\", FloatType(), True),\n",
    "        StructField(\"add_supplements\", BooleanType(), True),\n",
    "        StructField(\"supplement_price\", FloatType(), True),\n",
    "        StructField(\"total_purchase\", FloatType(), False),\n",
    "    ]\n",
    ")\n",
    "\n",
    "window = Window.partitionBy(\"product_id\").orderBy(\"total_purchase\")\n",
    "window_agg = Window.partitionBy(\"product_id\")\n",
    "\n",
    "(\n",
    "    df_sales.selectExpr(\"CAST(value AS STRING)\")\n",
    "    .select(F.from_json(\"value\", schema=schema).alias(\"data\"))\n",
    "    .select(\"data.*\")\n",
    "    .withColumn(\"row\", F.row_number().over(window))\n",
    "    .withColumn(\"quantity\", F.sum(F.col(\"quantity\")).over(window_agg))\n",
    "    .withColumn(\"sales\", F.sum(F.col(\"total_purchase\")).over(window_agg))\n",
    "    .filter(F.col(\"row\") == 1)\n",
    "    .drop(\"row\")\n",
    "    .select(\n",
    "        \"product_id\",\n",
    "        F.format_number(\"sales\", 2).alias(\"sales\"),\n",
    "        F.format_number(\"quantity\", 0).alias(\"quantity\"),\n",
    "    )\n",
    "    .coalesce(1)\n",
    "    .orderBy(F.regexp_replace(\"sales\", \",\", \"\").cast(\"float\"), ascending=False)\n",
    "    .show(10)\n",
    ")"
   ]
  },
  {
   "cell_type": "code",
   "execution_count": null,
   "id": "f527f89a-4662-44af-9d26-06c206168521",
   "metadata": {},
   "outputs": [],
   "source": []
  }
 ],
 "metadata": {
  "kernelspec": {
   "display_name": "Python 3 (ipykernel)",
   "language": "python",
   "name": "python3"
  },
  "language_info": {
   "codemirror_mode": {
    "name": "ipython",
    "version": 3
   },
   "file_extension": ".py",
   "mimetype": "text/x-python",
   "name": "python",
   "nbconvert_exporter": "python",
   "pygments_lexer": "ipython3",
   "version": "3.10.8"
  }
 },
 "nbformat": 4,
 "nbformat_minor": 5
}
